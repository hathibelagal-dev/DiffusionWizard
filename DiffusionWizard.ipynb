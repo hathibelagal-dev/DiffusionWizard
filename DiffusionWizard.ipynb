{
  "nbformat": 4,
  "nbformat_minor": 0,
  "metadata": {
    "colab": {
      "provenance": [],
      "gpuType": "T4"
    },
    "kernelspec": {
      "name": "python3",
      "display_name": "Python 3"
    },
    "language_info": {
      "name": "python"
    },
    "accelerator": "GPU"
  },
  "cells": [
    {
      "cell_type": "markdown",
      "source": [
        "Welcome to Diffusion Wizard."
      ],
      "metadata": {
        "id": "F5og9loKnvSc"
      }
    },
    {
      "cell_type": "code",
      "source": [
        "!pip3 install diffusers accelerate transformers compel"
      ],
      "metadata": {
        "id": "1FNcDH_xpzRl",
        "collapsed": true
      },
      "execution_count": null,
      "outputs": []
    },
    {
      "cell_type": "code",
      "source": [
        "import os\n",
        "import diffusers\n",
        "from diffusers import AutoPipelineForText2Image\n",
        "import torch\n",
        "import ipywidgets as widgets\n",
        "from IPython.display import display, Image\n",
        "from compel import Compel"
      ],
      "metadata": {
        "id": "TO2a6jG3PTX6"
      },
      "execution_count": null,
      "outputs": []
    },
    {
      "cell_type": "markdown",
      "source": [
        "Feel free to add your own favorite models to this dictionary. The ones available on HuggingFace don't need, shouldn't have, the complete URL. Use the full URL only for CivitAI models."
      ],
      "metadata": {
        "id": "-gSt86Db2-In"
      }
    },
    {
      "cell_type": "code",
      "source": [
        "models = {\n",
        "    \"photographer\": \"https://civitai.com/api/download/models/90072?type=Model&format=SafeTensor&size=pruned&fp=fp16\",\n",
        "    \"realistic\": \"https://civitai.com/api/download/models/501240?type=Model&format=SafeTensor&size=pruned&fp=fp16\",\n",
        "    \"cartoon\": \"https://civitai.com/api/download/models/125771?type=Model&format=SafeTensor&size=pruned&fp=fp16\",\n",
        "    \"anime\": \"https://civitai.com/api/download/models/93208?type=Model&format=SafeTensor&size=pruned&fp=fp16\",\n",
        "    \"dreamshaper\": \"https://civitai.com/api/download/models/128713?type=Model&format=SafeTensor&size=pruned&fp=fp16\",\n",
        "    \"landscapes\": \"https://civitai.com/api/download/models/42985?type=Model&format=SafeTensor&size=pruned&fp=fp16\",\n",
        "    \"default\": \"stable-diffusion-v1-5/stable-diffusion-v1-5\"\n",
        "}"
      ],
      "metadata": {
        "id": "H06SnWSjVB-f"
      },
      "execution_count": null,
      "outputs": []
    },
    {
      "cell_type": "code",
      "execution_count": null,
      "metadata": {
        "id": "kYUNKDQp5yDW"
      },
      "outputs": [],
      "source": [
        "device = \"cpu\"\n",
        "if torch.cuda.is_available():\n",
        "  device = \"cuda\""
      ]
    },
    {
      "cell_type": "markdown",
      "source": [
        "You can use one of the models above, or you can enter your own URL."
      ],
      "metadata": {
        "id": "L51z4EesnnM-"
      }
    },
    {
      "cell_type": "code",
      "source": [
        "model_safetensors = \"model.st\"\n",
        "model_url = models[\"dreamshaper\"]"
      ],
      "metadata": {
        "id": "LLVEQiWNPbvk"
      },
      "execution_count": null,
      "outputs": []
    },
    {
      "cell_type": "code",
      "source": [
        "if model_url.startswith(\"https://\"):\n",
        "  download_necessary = True\n",
        "else:\n",
        "  download_necessary = False"
      ],
      "metadata": {
        "id": "jhTcg9WDoXog"
      },
      "execution_count": null,
      "outputs": []
    },
    {
      "cell_type": "code",
      "source": [
        "if download_necessary:\n",
        "  if os.path.exists(model_safetensors):\n",
        "      print(f\"Model weights available\")\n",
        "  else:\n",
        "      print(f\"Model not found. Downloading...\")\n",
        "      !wget -O {model_safetensors} {model_url}"
      ],
      "metadata": {
        "id": "y93M0G6O8opr"
      },
      "execution_count": null,
      "outputs": []
    },
    {
      "cell_type": "code",
      "source": [
        "if download_necessary:\n",
        "  if not os.path.exists(\"convert.py\"):\n",
        "    !wget -O convert.py https://raw.githubusercontent.com/huggingface/diffusers/main/scripts/convert_original_stable_diffusion_to_diffusers.py\n",
        "\n",
        "  !python convert.py \\\n",
        "      --checkpoint_path ./{model_safetensors} \\\n",
        "      --dump_path ./converted_model \\\n",
        "      --from_safetensors"
      ],
      "metadata": {
        "id": "exxqCxNGCAWa"
      },
      "execution_count": null,
      "outputs": []
    },
    {
      "cell_type": "code",
      "source": [
        "pipeline = AutoPipelineForText2Image.from_pretrained(\n",
        "    \"./converted_model\" if download_necessary else model_url,\n",
        "    torch_dtype=torch.float16,\n",
        "    safety_checker = None\n",
        ").to(device)"
      ],
      "metadata": {
        "id": "okYv7ohiBgP_"
      },
      "execution_count": null,
      "outputs": []
    },
    {
      "cell_type": "code",
      "source": [
        "pipeline.scheduler = diffusers.DPMSolverSinglestepScheduler.from_config(\n",
        "    pipeline.scheduler.config,\n",
        "    use_karras_sigmas=True\n",
        ")\n",
        "compel = Compel(tokenizer=pipeline.tokenizer, text_encoder=pipeline.text_encoder)"
      ],
      "metadata": {
        "id": "XgQ8P_u0HCLN"
      },
      "execution_count": null,
      "outputs": []
    },
    {
      "cell_type": "code",
      "source": [
        "image_count = 0"
      ],
      "metadata": {
        "id": "osleg-dnWdY8"
      },
      "execution_count": null,
      "outputs": []
    },
    {
      "cell_type": "code",
      "source": [
        "prompt = widgets.Text(\n",
        "    value=None,\n",
        "    placeholder=\"Prompt\",\n",
        ")\n",
        "neg_prompt = widgets.Text(\n",
        "    value=None,\n",
        "    placeholder=\"Enter negative prompt\",\n",
        ")\n",
        "seed = widgets.IntText(\n",
        "    value=\"-1\",\n",
        "    placeholder=\"Enter seed\",\n",
        ")\n",
        "n_steps = widgets.IntText(\n",
        "    value=\"6\",\n",
        "    placeholder=\"Inference steps\",\n",
        ")\n",
        "guidance_scale = widgets.FloatText(\n",
        "    value=2.5,\n",
        "    placeholder=\"Guidance scale\",\n",
        ")\n",
        "\n",
        "primary_button = widgets.Button(description=\"Generate Image\")\n",
        "\n",
        "def generate_image(_):\n",
        "  global image_count\n",
        "  prompt_embeds = compel(prompt.value)\n",
        "  generator = None if seed.value == -1 else torch.Generator(device=device).manual_seed(seed.value)\n",
        "  output_filename = f\"image{image_count}.jpg\"\n",
        "  image = pipeline(\n",
        "      prompt_embeds=prompt_embeds, negative_prompt=neg_prompt.value,\n",
        "      num_inference_steps=n_steps.value,\n",
        "      guidance_scale=guidance_scale.value,\n",
        "      generator=generator\n",
        "  ).images[0]\n",
        "  image.save(output_filename)\n",
        "  image_count +=1\n",
        "  display(Image(filename=output_filename))\n",
        "\n",
        "primary_button.on_click(generate_image)"
      ],
      "metadata": {
        "id": "fcCUEIylQgLy"
      },
      "execution_count": null,
      "outputs": []
    },
    {
      "cell_type": "code",
      "source": [
        "display(prompt)\n",
        "display(neg_prompt)\n",
        "display(seed)\n",
        "display(n_steps)\n",
        "display(guidance_scale)\n",
        "display(primary_button)"
      ],
      "metadata": {
        "id": "kYcg6hw1RRNB"
      },
      "execution_count": null,
      "outputs": []
    },
    {
      "cell_type": "code",
      "source": [
        "print(\"Done\")"
      ],
      "metadata": {
        "id": "HAtW7ejp6ABD"
      },
      "execution_count": null,
      "outputs": []
    }
  ]
}