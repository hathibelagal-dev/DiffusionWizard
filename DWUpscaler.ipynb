{
  "nbformat": 4,
  "nbformat_minor": 0,
  "metadata": {
    "colab": {
      "provenance": []
    },
    "kernelspec": {
      "name": "python3",
      "display_name": "Python 3"
    },
    "language_info": {
      "name": "python"
    }
  },
  "cells": [
    {
      "cell_type": "markdown",
      "source": [
        "Welcome to Diffusion Wizard's Upscaler"
      ],
      "metadata": {
        "id": "gWQm7b4duVc6"
      }
    },
    {
      "cell_type": "code",
      "source": [
        "!pip3 install diffusers accelerate transformers"
      ],
      "metadata": {
        "id": "uzGbwlA5qyo2"
      },
      "execution_count": null,
      "outputs": []
    },
    {
      "cell_type": "code",
      "execution_count": null,
      "metadata": {
        "id": "rnHs8E8xqwDp"
      },
      "outputs": [],
      "source": [
        "import diffusers\n",
        "import torch\n",
        "import ipywidgets as widgets\n",
        "import IPython.display as display\n",
        "from PIL import Image\n",
        "import os"
      ]
    },
    {
      "cell_type": "code",
      "source": [
        "device = \"cpu\"\n",
        "if torch.cuda.is_available():\n",
        "  device = \"cuda\""
      ],
      "metadata": {
        "id": "zL-3dIqErn1d"
      },
      "execution_count": null,
      "outputs": []
    },
    {
      "cell_type": "code",
      "source": [
        "upscaler_model = \"stabilityai/stable-diffusion-x4-upscaler\"\n",
        "upscale_pipeline = diffusers.StableDiffusionUpscalePipeline.from_pretrained(\n",
        "    upscaler_model,\n",
        "    torch_dtype=torch.float16\n",
        ")\n",
        "upscale_pipeline = upscale_pipeline.to(device)"
      ],
      "metadata": {
        "id": "Vz-DpmxIrD5g"
      },
      "execution_count": null,
      "outputs": []
    },
    {
      "cell_type": "code",
      "source": [
        "filename = widgets.Text(\n",
        "    placeholder=\"File to upscale\",\n",
        "    value=\"image.jpg\"\n",
        ")\n",
        "upscale_button = widgets.Button(\n",
        "    description=\"Upscale\"\n",
        ")\n",
        "prompt = widgets.Text(\n",
        "    placeholder=\"Prompt\",\n",
        "    value=None\n",
        ")\n",
        "num_steps = widgets.IntText(\n",
        "    placeholder=\"Number of inference steps\",\n",
        "    value=30\n",
        ")\n",
        "\n",
        "def upscale_button_handler(_):\n",
        "  if not os.path.exists(filename.value):\n",
        "    print(\"File not found.\")\n",
        "  else:\n",
        "    print(\"Upscaling\")\n",
        "    image = Image.open(filename.value).convert(\"RGB\")\n",
        "    output_filename = f\"upscaled_{filename.value}\"\n",
        "    upscaled_image = upscale_pipeline(\n",
        "        prompt=\"\",\n",
        "        image=image,\n",
        "        num_inference_steps=num_steps.value\n",
        "    ).images[0]\n",
        "    upscaled_image.save(output_filename)\n",
        "    display.display(display.Image(filename=output_filename))\n",
        "\n",
        "upscale_button.on_click(upscale_button_handler)\n",
        "\n",
        "display.display(prompt)\n",
        "display.display(filename)\n",
        "display.display(num_steps)\n",
        "display.display(upscale_button)"
      ],
      "metadata": {
        "id": "_8NhWEMGrwBs"
      },
      "execution_count": null,
      "outputs": []
    },
    {
      "cell_type": "code",
      "source": [
        "print(\"Ready\")"
      ],
      "metadata": {
        "colab": {
          "base_uri": "https://localhost:8080/"
        },
        "id": "ajx5C3Dzx2i_",
        "outputId": "2fdf18f9-832e-4568-a87d-70409a62601f"
      },
      "execution_count": null,
      "outputs": [
        {
          "output_type": "stream",
          "name": "stdout",
          "text": [
            "Ready\n"
          ]
        }
      ]
    }
  ]
}